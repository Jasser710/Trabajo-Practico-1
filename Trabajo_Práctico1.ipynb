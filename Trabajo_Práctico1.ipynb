{
 "nbformat": 4,
 "nbformat_minor": 0,
 "metadata": {
  "colab": {
   "provenance": []
  },
  "kernelspec": {
   "name": "python3",
   "display_name": "Python 3 (ipykernel)",
   "language": "python"
  },
  "language_info": {
   "name": "python"
  }
 },
 "cells": [
  {
   "cell_type": "markdown",
   "source": [
    "##Importación de librerías"
   ],
   "metadata": {
    "id": "aU0q5YsvFt60"
   }
  },
  {
   "cell_type": "code",
   "metadata": {
    "id": "n3akG2N6CdZ9",
    "ExecuteTime": {
     "end_time": "2025-05-04T22:43:05.259492Z",
     "start_time": "2025-05-04T22:43:03.139281Z"
    }
   },
   "source": [
    "import pandas as pd\n",
    "import numpy as np\n",
    "import xgboost as xgb\n",
    "import joblib\n",
    "from sklearn.model_selection import train_test_split, GridSearchCV\n",
    "from sklearn.preprocessing import OneHotEncoder\n",
    "from sklearn.pipeline import Pipeline\n",
    "from sklearn.compose import ColumnTransformer\n",
    "from sklearn.metrics import mean_squared_error, r2_score"
   ],
   "outputs": [],
   "execution_count": 1
  },
  {
   "cell_type": "markdown",
   "source": [
    "##Carga y exploración incial del dataset"
   ],
   "metadata": {
    "id": "2muStUhkF9bb"
   }
  },
  {
   "cell_type": "code",
   "source": [
    "# Cargar dataset\n",
    "df = pd.read_csv(\"merged_dataset.csv\")\n",
    "\n",
    "# Exploración inicial\n",
    "display(df.head())\n",
    "print(df.info())\n",
    "print(df.describe())"
   ],
   "metadata": {
    "colab": {
     "base_uri": "https://localhost:8080/",
     "height": 726
    },
    "id": "vykbkstoEYKi",
    "outputId": "ce5783a3-37b4-4b29-d2d9-5db5938d4f48",
    "ExecuteTime": {
     "end_time": "2025-05-04T22:43:07.358183Z",
     "start_time": "2025-05-04T22:43:07.261282Z"
    }
   },
   "outputs": [
    {
     "data": {
      "text/plain": [
       "                                                name  year movie_rated  \\\n",
       "0                                          Inception  2010       PG-13   \n",
       "1  The Lord of the Rings: The Fellowship of the Ring  2001       PG-13   \n",
       "2      The Lord of the Rings: The Return of the King  2003       PG-13   \n",
       "3                              The Dark Knight Rises  2012       PG-13   \n",
       "4              The Lord of the Rings: The Two Towers  2002       PG-13   \n",
       "\n",
       "  run_length                       genres            release_date  rating  \\\n",
       "0   2h 28min  Action; Adventure; Sci-Fi;       16 July 2010 (USA)     8.8   \n",
       "1   2h 58min   Action; Adventure; Drama;   19 December 2001 (USA)     8.8   \n",
       "2   3h 21min  Adventure; Drama; Fantasy;   17 December 2003 (USA)     8.9   \n",
       "3   2h 44min          Action; Adventure;       20 July 2012 (USA)     8.4   \n",
       "4   2h 59min  Adventure; Drama; Fantasy;   18 December 2002 (USA)     8.7   \n",
       "\n",
       "   num_raters  num_reviews  \n",
       "0     1981675         3820  \n",
       "1     1609165         5365  \n",
       "2     1593859         3681  \n",
       "3     1470329         2979  \n",
       "4     1440188         2559  "
      ],
      "text/html": [
       "<div>\n",
       "<style scoped>\n",
       "    .dataframe tbody tr th:only-of-type {\n",
       "        vertical-align: middle;\n",
       "    }\n",
       "\n",
       "    .dataframe tbody tr th {\n",
       "        vertical-align: top;\n",
       "    }\n",
       "\n",
       "    .dataframe thead th {\n",
       "        text-align: right;\n",
       "    }\n",
       "</style>\n",
       "<table border=\"1\" class=\"dataframe\">\n",
       "  <thead>\n",
       "    <tr style=\"text-align: right;\">\n",
       "      <th></th>\n",
       "      <th>name</th>\n",
       "      <th>year</th>\n",
       "      <th>movie_rated</th>\n",
       "      <th>run_length</th>\n",
       "      <th>genres</th>\n",
       "      <th>release_date</th>\n",
       "      <th>rating</th>\n",
       "      <th>num_raters</th>\n",
       "      <th>num_reviews</th>\n",
       "    </tr>\n",
       "  </thead>\n",
       "  <tbody>\n",
       "    <tr>\n",
       "      <th>0</th>\n",
       "      <td>Inception</td>\n",
       "      <td>2010</td>\n",
       "      <td>PG-13</td>\n",
       "      <td>2h 28min</td>\n",
       "      <td>Action; Adventure; Sci-Fi;</td>\n",
       "      <td>16 July 2010 (USA)</td>\n",
       "      <td>8.8</td>\n",
       "      <td>1981675</td>\n",
       "      <td>3820</td>\n",
       "    </tr>\n",
       "    <tr>\n",
       "      <th>1</th>\n",
       "      <td>The Lord of the Rings: The Fellowship of the Ring</td>\n",
       "      <td>2001</td>\n",
       "      <td>PG-13</td>\n",
       "      <td>2h 58min</td>\n",
       "      <td>Action; Adventure; Drama;</td>\n",
       "      <td>19 December 2001 (USA)</td>\n",
       "      <td>8.8</td>\n",
       "      <td>1609165</td>\n",
       "      <td>5365</td>\n",
       "    </tr>\n",
       "    <tr>\n",
       "      <th>2</th>\n",
       "      <td>The Lord of the Rings: The Return of the King</td>\n",
       "      <td>2003</td>\n",
       "      <td>PG-13</td>\n",
       "      <td>3h 21min</td>\n",
       "      <td>Adventure; Drama; Fantasy;</td>\n",
       "      <td>17 December 2003 (USA)</td>\n",
       "      <td>8.9</td>\n",
       "      <td>1593859</td>\n",
       "      <td>3681</td>\n",
       "    </tr>\n",
       "    <tr>\n",
       "      <th>3</th>\n",
       "      <td>The Dark Knight Rises</td>\n",
       "      <td>2012</td>\n",
       "      <td>PG-13</td>\n",
       "      <td>2h 44min</td>\n",
       "      <td>Action; Adventure;</td>\n",
       "      <td>20 July 2012 (USA)</td>\n",
       "      <td>8.4</td>\n",
       "      <td>1470329</td>\n",
       "      <td>2979</td>\n",
       "    </tr>\n",
       "    <tr>\n",
       "      <th>4</th>\n",
       "      <td>The Lord of the Rings: The Two Towers</td>\n",
       "      <td>2002</td>\n",
       "      <td>PG-13</td>\n",
       "      <td>2h 59min</td>\n",
       "      <td>Adventure; Drama; Fantasy;</td>\n",
       "      <td>18 December 2002 (USA)</td>\n",
       "      <td>8.7</td>\n",
       "      <td>1440188</td>\n",
       "      <td>2559</td>\n",
       "    </tr>\n",
       "  </tbody>\n",
       "</table>\n",
       "</div>"
      ]
     },
     "metadata": {},
     "output_type": "display_data"
    },
    {
     "name": "stdout",
     "output_type": "stream",
     "text": [
      "<class 'pandas.core.frame.DataFrame'>\n",
      "RangeIndex: 1500 entries, 0 to 1499\n",
      "Data columns (total 9 columns):\n",
      " #   Column        Non-Null Count  Dtype  \n",
      "---  ------        --------------  -----  \n",
      " 0   name          1500 non-null   object \n",
      " 1   year          1500 non-null   int64  \n",
      " 2   movie_rated   1500 non-null   object \n",
      " 3   run_length    1500 non-null   object \n",
      " 4   genres        1500 non-null   object \n",
      " 5   release_date  1500 non-null   object \n",
      " 6   rating        1500 non-null   float64\n",
      " 7   num_raters    1500 non-null   int64  \n",
      " 8   num_reviews   1500 non-null   int64  \n",
      "dtypes: float64(1), int64(3), object(5)\n",
      "memory usage: 105.6+ KB\n",
      "None\n",
      "              year       rating    num_raters   num_reviews\n",
      "count  1500.000000  1500.000000  1.500000e+03   1500.000000\n",
      "mean   2002.632000     7.477600  4.116746e+05    996.054667\n",
      "std      14.758516     0.725035  3.181686e+05   1009.968589\n",
      "min    1915.000000     3.500000  1.929000e+04    102.000000\n",
      "25%    1998.000000     7.000000  1.912445e+05    424.750000\n",
      "50%    2006.000000     7.600000  3.414520e+05    724.500000\n",
      "75%    2012.000000     8.000000  5.654030e+05   1223.250000\n",
      "max    2020.000000     9.300000  2.258845e+06  10279.000000\n"
     ]
    }
   ],
   "execution_count": 2
  },
  {
   "cell_type": "markdown",
   "source": [
    "##Limpieza/modificación de datos"
   ],
   "metadata": {
    "id": "nnJJOOzvGb-G"
   }
  },
  {
   "cell_type": "code",
   "source": [
    "#Eliminación de columnas que no vamos a utilizar\n",
    "df = df.drop(['run_length', 'release_date', 'num_raters', 'num_reviews'], axis=1)\n",
    "\n",
    "#Renombramiento de columnas (para mayor facilidad)\n",
    "df = df.rename(columns={'name': 'Movie Title',\n",
    "'year': 'Release Year',\n",
    "'movie_rated': 'Audience',\n",
    "'genres': 'Film Type',\n",
    "'rating': 'IMDb Rating'})\n",
    "\n",
    "#Eliminar Filas duplicadas\n",
    "df = df.drop_duplicates(subset =['Movie Title'])\n",
    "\n",
    "df.head()"
   ],
   "metadata": {
    "colab": {
     "base_uri": "https://localhost:8080/",
     "height": 206
    },
    "id": "3nThpfRMGeD-",
    "outputId": "e16dcb3a-7b57-487f-d7f9-d26f709d4d66",
    "ExecuteTime": {
     "end_time": "2025-05-04T22:43:13.507223Z",
     "start_time": "2025-05-04T22:43:13.481377Z"
    }
   },
   "outputs": [
    {
     "data": {
      "text/plain": [
       "                                         Movie Title  Release Year Audience  \\\n",
       "0                                          Inception          2010    PG-13   \n",
       "1  The Lord of the Rings: The Fellowship of the Ring          2001    PG-13   \n",
       "2      The Lord of the Rings: The Return of the King          2003    PG-13   \n",
       "3                              The Dark Knight Rises          2012    PG-13   \n",
       "4              The Lord of the Rings: The Two Towers          2002    PG-13   \n",
       "\n",
       "                     Film Type  IMDb Rating  \n",
       "0  Action; Adventure; Sci-Fi;           8.8  \n",
       "1   Action; Adventure; Drama;           8.8  \n",
       "2  Adventure; Drama; Fantasy;           8.9  \n",
       "3          Action; Adventure;           8.4  \n",
       "4  Adventure; Drama; Fantasy;           8.7  "
      ],
      "text/html": [
       "<div>\n",
       "<style scoped>\n",
       "    .dataframe tbody tr th:only-of-type {\n",
       "        vertical-align: middle;\n",
       "    }\n",
       "\n",
       "    .dataframe tbody tr th {\n",
       "        vertical-align: top;\n",
       "    }\n",
       "\n",
       "    .dataframe thead th {\n",
       "        text-align: right;\n",
       "    }\n",
       "</style>\n",
       "<table border=\"1\" class=\"dataframe\">\n",
       "  <thead>\n",
       "    <tr style=\"text-align: right;\">\n",
       "      <th></th>\n",
       "      <th>Movie Title</th>\n",
       "      <th>Release Year</th>\n",
       "      <th>Audience</th>\n",
       "      <th>Film Type</th>\n",
       "      <th>IMDb Rating</th>\n",
       "    </tr>\n",
       "  </thead>\n",
       "  <tbody>\n",
       "    <tr>\n",
       "      <th>0</th>\n",
       "      <td>Inception</td>\n",
       "      <td>2010</td>\n",
       "      <td>PG-13</td>\n",
       "      <td>Action; Adventure; Sci-Fi;</td>\n",
       "      <td>8.8</td>\n",
       "    </tr>\n",
       "    <tr>\n",
       "      <th>1</th>\n",
       "      <td>The Lord of the Rings: The Fellowship of the Ring</td>\n",
       "      <td>2001</td>\n",
       "      <td>PG-13</td>\n",
       "      <td>Action; Adventure; Drama;</td>\n",
       "      <td>8.8</td>\n",
       "    </tr>\n",
       "    <tr>\n",
       "      <th>2</th>\n",
       "      <td>The Lord of the Rings: The Return of the King</td>\n",
       "      <td>2003</td>\n",
       "      <td>PG-13</td>\n",
       "      <td>Adventure; Drama; Fantasy;</td>\n",
       "      <td>8.9</td>\n",
       "    </tr>\n",
       "    <tr>\n",
       "      <th>3</th>\n",
       "      <td>The Dark Knight Rises</td>\n",
       "      <td>2012</td>\n",
       "      <td>PG-13</td>\n",
       "      <td>Action; Adventure;</td>\n",
       "      <td>8.4</td>\n",
       "    </tr>\n",
       "    <tr>\n",
       "      <th>4</th>\n",
       "      <td>The Lord of the Rings: The Two Towers</td>\n",
       "      <td>2002</td>\n",
       "      <td>PG-13</td>\n",
       "      <td>Adventure; Drama; Fantasy;</td>\n",
       "      <td>8.7</td>\n",
       "    </tr>\n",
       "  </tbody>\n",
       "</table>\n",
       "</div>"
      ]
     },
     "execution_count": 3,
     "metadata": {},
     "output_type": "execute_result"
    }
   ],
   "execution_count": 3
  },
  {
   "cell_type": "code",
   "source": [
    "features = ['Release Year', 'Audience', 'Film Type']\n",
    "X = df[features]\n",
    "y = df['IMDb Rating']\n",
    "\n",
    "# Manejo de valores nulos\n",
    "X = X.fillna(X.mode().iloc[0])  # Rellenamos con el valor más frecuente\n",
    "y = y.fillna(y.median())\n"
   ],
   "metadata": {
    "id": "dRL2GtJ8KEqr",
    "ExecuteTime": {
     "end_time": "2025-05-04T22:43:18.312486Z",
     "start_time": "2025-05-04T22:43:18.289216Z"
    }
   },
   "outputs": [],
   "execution_count": 4
  },
  {
   "cell_type": "code",
   "source": [
    "# Codificación de variables categóricas\n",
    "categorical_features = ['Audience', 'Film Type']\n",
    "categorical_transformer = OneHotEncoder(handle_unknown='ignore')\n",
    "\n",
    "preprocessor = ColumnTransformer(\n",
    "    transformers=[('cat', categorical_transformer, categorical_features)], remainder='passthrough')\n",
    "\n",
    "X_train, X_test, y_train, y_test = train_test_split(X, y, test_size=0.2, random_state=42)"
   ],
   "metadata": {
    "id": "sebtiJ_FSiJQ",
    "ExecuteTime": {
     "end_time": "2025-05-04T22:43:21.487570Z",
     "start_time": "2025-05-04T22:43:21.472374Z"
    }
   },
   "outputs": [],
   "execution_count": 5
  },
  {
   "cell_type": "code",
   "source": [
    "# Modelo XGBoost con hiperparámetros\n",
    "gxboost = xgb.XGBRegressor(objective='reg:squarederror', random_state=42)\n",
    "\n",
    "param_grid = {\n",
    "    'n_estimators': [100, 200],\n",
    "    'learning_rate': [0.01, 0.1],\n",
    "    'max_depth': [3, 5]\n",
    "}\n",
    "\n",
    "grid_search = GridSearchCV(estimator=gxboost, param_grid=param_grid, cv=3, scoring='neg_mean_squared_error', verbose=2)"
   ],
   "metadata": {
    "id": "2-uIZWcKStzc",
    "ExecuteTime": {
     "end_time": "2025-05-04T22:43:23.860495Z",
     "start_time": "2025-05-04T22:43:23.847814Z"
    }
   },
   "outputs": [],
   "execution_count": 6
  },
  {
   "cell_type": "code",
   "source": [
    "# Crear pipeline completo\n",
    "pipeline = Pipeline(steps=[('preprocessor', preprocessor), ('model', grid_search)])\n",
    "\n",
    "# Entrenamiento\n",
    "pipeline.fit(X_train, y_train)\n",
    "\n",
    "# Predicción\n",
    "y_pred = pipeline.predict(X_test)\n",
    "\n",
    "# Evaluación\n",
    "rmse = np.sqrt(mean_squared_error(y_test, y_pred))\n",
    "r2 = r2_score(y_test, y_pred)\n",
    "print(f'RMSE: {rmse}')\n",
    "print(f'R²: {r2}')\n",
    "\n",
    "# Guardar el modelo\n",
    "joblib.dump(pipeline, \"imdb_xgboost_model.pkl\")\n",
    "print(\"Modelo guardado exitosamente.\")"
   ],
   "metadata": {
    "colab": {
     "base_uri": "https://localhost:8080/"
    },
    "id": "qH-1HBXXTMDd",
    "outputId": "fd0a68e0-5270-4f7f-c778-1210faca9ad9",
    "ExecuteTime": {
     "end_time": "2025-05-04T22:43:30.661171Z",
     "start_time": "2025-05-04T22:43:26.411493Z"
    }
   },
   "outputs": [
    {
     "name": "stdout",
     "output_type": "stream",
     "text": [
      "Fitting 3 folds for each of 8 candidates, totalling 24 fits\n",
      "[CV] END ..learning_rate=0.01, max_depth=3, n_estimators=100; total time=   2.0s\n",
      "[CV] END ..learning_rate=0.01, max_depth=3, n_estimators=100; total time=   0.0s\n",
      "[CV] END ..learning_rate=0.01, max_depth=3, n_estimators=100; total time=   0.0s\n",
      "[CV] END ..learning_rate=0.01, max_depth=3, n_estimators=200; total time=   0.0s\n",
      "[CV] END ..learning_rate=0.01, max_depth=3, n_estimators=200; total time=   0.0s\n",
      "[CV] END ..learning_rate=0.01, max_depth=3, n_estimators=200; total time=   0.0s\n",
      "[CV] END ..learning_rate=0.01, max_depth=5, n_estimators=100; total time=   0.0s\n",
      "[CV] END ..learning_rate=0.01, max_depth=5, n_estimators=100; total time=   0.0s\n",
      "[CV] END ..learning_rate=0.01, max_depth=5, n_estimators=100; total time=   0.0s\n",
      "[CV] END ..learning_rate=0.01, max_depth=5, n_estimators=200; total time=   0.0s\n",
      "[CV] END ..learning_rate=0.01, max_depth=5, n_estimators=200; total time=   0.0s\n",
      "[CV] END ..learning_rate=0.01, max_depth=5, n_estimators=200; total time=   0.0s\n",
      "[CV] END ...learning_rate=0.1, max_depth=3, n_estimators=100; total time=   0.0s\n",
      "[CV] END ...learning_rate=0.1, max_depth=3, n_estimators=100; total time=   0.0s\n",
      "[CV] END ...learning_rate=0.1, max_depth=3, n_estimators=100; total time=   0.0s\n",
      "[CV] END ...learning_rate=0.1, max_depth=3, n_estimators=200; total time=   0.0s\n",
      "[CV] END ...learning_rate=0.1, max_depth=3, n_estimators=200; total time=   0.0s\n",
      "[CV] END ...learning_rate=0.1, max_depth=3, n_estimators=200; total time=   0.0s\n",
      "[CV] END ...learning_rate=0.1, max_depth=5, n_estimators=100; total time=   0.0s\n",
      "[CV] END ...learning_rate=0.1, max_depth=5, n_estimators=100; total time=   0.0s\n",
      "[CV] END ...learning_rate=0.1, max_depth=5, n_estimators=100; total time=   0.0s\n",
      "[CV] END ...learning_rate=0.1, max_depth=5, n_estimators=200; total time=   0.0s\n",
      "[CV] END ...learning_rate=0.1, max_depth=5, n_estimators=200; total time=   0.0s\n",
      "[CV] END ...learning_rate=0.1, max_depth=5, n_estimators=200; total time=   0.0s\n",
      "RMSE: 0.7028858164643654\n",
      "R²: 0.16982631287409644\n",
      "Modelo guardado exitosamente.\n"
     ]
    }
   ],
   "execution_count": 7
  }
 ]
}
